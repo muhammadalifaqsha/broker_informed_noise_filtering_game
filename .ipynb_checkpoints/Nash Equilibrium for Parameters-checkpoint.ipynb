{
 "cells": [
  {
   "cell_type": "markdown",
   "metadata": {},
   "source": [
    "# Broker, Informed, Noise Traders: Filtering Game"
   ]
  },
  {
   "cell_type": "code",
   "execution_count": 1,
   "metadata": {},
   "outputs": [
    {
     "name": "stderr",
     "output_type": "stream",
     "text": [
      "C:\\Users\\muham\\AppData\\Roaming\\Python\\Python38\\site-packages\\pandas\\core\\computation\\expressions.py:20: UserWarning: Pandas requires version '2.7.3' or newer of 'numexpr' (version '2.7.1' currently installed).\n",
      "  from pandas.core.computation.check import NUMEXPR_INSTALLED\n"
     ]
    },
    {
     "data": {
      "text/plain": [
       "<module 'utils' from 'D:\\\\(Akademik)\\\\(CDT in Mathematics of Random Systems)\\\\[Broker, Informed, Noise Traders, Filtering Game]\\\\utils.py'>"
      ]
     },
     "execution_count": 1,
     "metadata": {},
     "output_type": "execute_result"
    }
   ],
   "source": [
    "import sys\n",
    "import utils as utils\n",
    "import simulations_nash as simulations\n",
    "import nash_params as nash_params\n",
    "from importlib import reload\n",
    "import numpy as np\n",
    "import matplotlib.pyplot as plt\n",
    "import seaborn as sns\n",
    "from scipy import stats\n",
    "\n",
    "import datetime\n",
    "from time import time\n",
    "\n",
    "reload(utils)"
   ]
  },
  {
   "cell_type": "code",
   "execution_count": 2,
   "metadata": {},
   "outputs": [],
   "source": [
    "%load_ext autoreload\n",
    "%autoreload 2\n",
    "np.random.seed(100)"
   ]
  },
  {
   "cell_type": "code",
   "execution_count": 3,
   "metadata": {},
   "outputs": [],
   "source": [
    "import matplotlib.pylab as pylab\n",
    "params = {'legend.fontsize': 'x-large',\n",
    "          'figure.figsize': (15, 5),\n",
    "         'axes.labelsize': 'x-large',\n",
    "         'axes.titlesize':'x-large',\n",
    "         'xtick.labelsize':'x-large',\n",
    "         'ytick.labelsize':'x-large'}\n",
    "pylab.rcParams.update(params)\n",
    "%config InlineBackend.figure_format = \"retina\"\n",
    "\n",
    "import matplotlib\n",
    "plt.rc('text', usetex=True)\n",
    "plt.rc('text.latex', preamble=r'\\usepackage{amsmath,amsfonts}')"
   ]
  },
  {
   "cell_type": "markdown",
   "metadata": {},
   "source": [
    "## 1. Choose the signal filtering strategy & benchmark"
   ]
  },
  {
   "cell_type": "code",
   "execution_count": 4,
   "metadata": {},
   "outputs": [],
   "source": [
    "# choosing strategy type\n",
    "# available strategies are \"our model\", \"alternative filter\", \"naive filter\"\n",
    "# mispecify parameter represents whether the broker mispecifies the informed trader's inventory or not\n",
    "\n",
    "strategy_type = \"our model\"\n",
    "mispecify = False\n",
    "file_name = f'(Nash) {strategy_type}'\n",
    "if mispecify:\n",
    "    file_name += f' (mispecified inventory)'\n",
    "    \n",
    "alpha_est_name = {\"our model\": r'$\\hat{\\alpha}_t$',\n",
    "                  \"alternative filter\": r'$\\hat{\\alpha}^{alt}_t$',\n",
    "                  \"naive filter\": r'$\\hat{\\alpha}^{naive}_t$'}"
   ]
  },
  {
   "cell_type": "markdown",
   "metadata": {},
   "source": [
    "## 2. Initial beliefs on the parameters"
   ]
  },
  {
   "cell_type": "code",
   "execution_count": 5,
   "metadata": {},
   "outputs": [],
   "source": [
    "theta_B = 10.\n",
    "theta_B_br = 5.\n",
    "\n",
    "# for now, both players assume mu_B = 0\n",
    "mu_B = 0.\n",
    "mu_B_br = 0.\n",
    "\n",
    "sigma_B = 60.\n",
    "sigma_B_br = 100.\n",
    "\n",
    "kappa_alpha = 5.\n",
    "kappa_alpha_br = 10.\n",
    "\n",
    "sigma_alpha = 1.\n",
    "sigma_alpha_br = 2."
   ]
  },
  {
   "cell_type": "code",
   "execution_count": 6,
   "metadata": {},
   "outputs": [
    {
     "name": "stderr",
     "output_type": "stream",
     "text": [
      "D:\\(Akademik)\\(CDT in Mathematics of Random Systems)\\[Broker, Informed, Noise Traders, Filtering Game]\\utils.py:214: RuntimeWarning: divide by zero encountered in divide\n",
      "  GF0 = -(env.b/env.sigma_s)**2 * V_I - f3/2 - (env.b/(2*inf.k*f2))\n",
      "D:\\(Akademik)\\(CDT in Mathematics of Random Systems)\\[Broker, Informed, Noise Traders, Filtering Game]\\utils.py:228: RuntimeWarning: invalid value encountered in divide\n",
      "  GF6 = -(dGF3 * (GF3 + env.corr*GF4) + dGF3 * (env.corr * GF3 + GF4))/(GF5**2)\n",
      "D:\\(Akademik)\\(CDT in Mathematics of Random Systems)\\[Broker, Informed, Noise Traders, Filtering Game]\\utils.py:231: RuntimeWarning: invalid value encountered in divide\n",
      "  GF7 = GF_alpha/GF5\n",
      "D:\\(Akademik)\\(CDT in Mathematics of Random Systems)\\[Broker, Informed, Noise Traders, Filtering Game]\\utils.py:234: RuntimeWarning: invalid value encountered in divide\n",
      "  kF = (GF3 + env.corr * GF4)/GF5\n"
     ]
    }
   ],
   "source": [
    "# base model with no parameter mispecifications\n",
    "\n",
    "scale_ivp = 100000 # change this to change the scale in solving ivp for V_B\n",
    "\n",
    "params_env = {'b': 1e-03, 'alpha0': 0, 'kappa_alpha': kappa_alpha, 'sigma_alpha': sigma_alpha, \n",
    "              'S0': 100., 'sigma_s': 1, 'corr': 0., 'T': 1., 'Nt': 1_000}\n",
    "\n",
    "env = utils.environment(**params_env)\n",
    "\n",
    "params_inf = {'env': env, 'Q0' : 0., 'k' : 2e-03, 'beta0' : 1e-01, 'beta1' : 1e-03, 'rho0' : 1e-03, 'rho1' : 1e-05,\n",
    "                  'sigma_B' : sigma_B, 'mu_B' : mu_B, 'theta_B' : theta_B, 'sigma_0' : 0}\n",
    "\n",
    "inf_trader =  utils.informed(**params_inf)\n",
    "\n",
    "params_uninf = {'kappa' : 15., 'nu0' : 0., 'sigma' : 100., 'k' : 2e-03}\n",
    "\n",
    "uninf_trader = utils.uninformed(**params_uninf)\n",
    "\n",
    "params_broker = {'env': env, 'inf': inf_trader, 'uninf': uninf_trader,\n",
    "                 'Q0': 0, 'k': 2.1e-03, 'beta0': 1e-01, 'beta1': 1e-03, 'rho0': 1e-03, 'rho1': 1e-05, \n",
    "                 'sigma_B': inf_trader.sigma_B, 'mu_B': inf_trader.mu_B, 'theta_B': inf_trader.theta_B, \n",
    "                 'sigma_0': 0, 'scale_ivp': scale_ivp}\n",
    "\n",
    "broker = utils.broker(**params_broker)"
   ]
  },
  {
   "cell_type": "markdown",
   "metadata": {},
   "source": [
    "## Simulation with parameters mispecification"
   ]
  },
  {
   "cell_type": "code",
   "execution_count": 7,
   "metadata": {},
   "outputs": [
    {
     "name": "stdout",
     "output_type": "stream",
     "text": [
      "Done in 12.0 seconds\n"
     ]
    }
   ],
   "source": [
    "nsims = 10_000\n",
    "\n",
    "t = time()\n",
    "\n",
    "nash = nash_params.nash_params(env = env, inf = inf_trader, uninf = uninf_trader, broker = broker,\n",
    "                               theta_B = theta_B, mu_B = mu_B, sigma_B = sigma_B, \n",
    "                               theta_B_br = theta_B_br, mu_B_br = mu_B_br, sigma_B_br = sigma_B_br, \n",
    "                               kappa_alpha_br = kappa_alpha_br, sigma_alpha_br = sigma_alpha_br,\n",
    "                               strategy_type = strategy_type, mispecify = mispecify, nsims = nsims)\n",
    "\n",
    "dt = time() - t\n",
    "\n",
    "print(f'Done in {dt:1.3} seconds')"
   ]
  },
  {
   "cell_type": "code",
   "execution_count": 8,
   "metadata": {},
   "outputs": [
    {
     "data": {
      "text/plain": [
       "0.10438013077534147"
      ]
     },
     "execution_count": 8,
     "metadata": {},
     "output_type": "execute_result"
    }
   ],
   "source": [
    "nash.J_I"
   ]
  },
  {
   "cell_type": "code",
   "execution_count": 9,
   "metadata": {},
   "outputs": [
    {
     "data": {
      "text/plain": [
       "0.2902742698013168"
      ]
     },
     "execution_count": 9,
     "metadata": {},
     "output_type": "execute_result"
    }
   ],
   "source": [
    "nash.J_B"
   ]
  },
  {
   "cell_type": "code",
   "execution_count": null,
   "metadata": {},
   "outputs": [],
   "source": [
    "num_steps = 10\n",
    "\n",
    "for n in range(num_steps):\n",
    "    \n",
    "    # informed trader moves his beliefs first\n",
    "    \n",
    "    step_size = [1, 1, 1]\n",
    "    sign = [+1, -1]\n",
    "    \n",
    "    for step \n",
    "    \n",
    "    nash = nash_params.nash_params(env = env, inf = inf_trader, uninf = uninf_trader, broker = broker,\n",
    "                                   theta_B = theta_B_new, mu_B = mu_B, sigma_B = sigma_B_new, \n",
    "                                   theta_B_br = theta_B_br, mu_B_br = mu_B_br, sigma_B_br = sigma_B_br, \n",
    "                                   kappa_alpha_br = kappa_alpha_br, sigma_alpha_br = sigma_alpha_br,\n",
    "                                   strategy_type = strategy_type, mispecify = mispecify, nsims = nsims)\n"
   ]
  },
  {
   "cell_type": "code",
   "execution_count": 10,
   "metadata": {},
   "outputs": [
    {
     "name": "stdout",
     "output_type": "stream",
     "text": [
      "1\n",
      "-1\n",
      "1\n",
      "-1\n",
      "1\n",
      "-1\n"
     ]
    }
   ],
   "source": [
    "step_size = [1, 1, 1]\n",
    "sign = [+1, -1]\n",
    "\n",
    "for step in step_size:\n",
    "    for sgn in sign:\n",
    "        print(step*sgn)"
   ]
  },
  {
   "cell_type": "code",
   "execution_count": null,
   "metadata": {},
   "outputs": [],
   "source": []
  }
 ],
 "metadata": {
  "kernelspec": {
   "display_name": "Python 3",
   "language": "python",
   "name": "python3"
  },
  "language_info": {
   "codemirror_mode": {
    "name": "ipython",
    "version": 3
   },
   "file_extension": ".py",
   "mimetype": "text/x-python",
   "name": "python",
   "nbconvert_exporter": "python",
   "pygments_lexer": "ipython3",
   "version": "3.8.5"
  }
 },
 "nbformat": 4,
 "nbformat_minor": 4
}
