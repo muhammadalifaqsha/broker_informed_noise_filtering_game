{
 "cells": [
  {
   "cell_type": "markdown",
   "metadata": {},
   "source": [
    "# Parameter sensitivity to informed trader's speed"
   ]
  },
  {
   "cell_type": "code",
   "execution_count": 1,
   "metadata": {},
   "outputs": [
    {
     "name": "stderr",
     "output_type": "stream",
     "text": [
      "C:\\Users\\muham\\AppData\\Roaming\\Python\\Python38\\site-packages\\pandas\\core\\computation\\expressions.py:20: UserWarning: Pandas requires version '2.7.3' or newer of 'numexpr' (version '2.7.1' currently installed).\n",
      "  from pandas.core.computation.check import NUMEXPR_INSTALLED\n"
     ]
    },
    {
     "data": {
      "text/plain": [
       "<module 'utils' from 'D:\\\\(Akademik)\\\\(CDT in Mathematics of Random Systems)\\\\[Broker, Informed, Noise Traders, Filtering Game]\\\\utils.py'>"
      ]
     },
     "execution_count": 1,
     "metadata": {},
     "output_type": "execute_result"
    }
   ],
   "source": [
    "import sys\n",
    "import utils as utils\n",
    "from importlib import reload\n",
    "import numpy as np\n",
    "import matplotlib.pyplot as plt\n",
    "import seaborn as sns\n",
    "from scipy import stats\n",
    "reload(utils)"
   ]
  },
  {
   "cell_type": "code",
   "execution_count": 2,
   "metadata": {},
   "outputs": [],
   "source": [
    "%load_ext autoreload\n",
    "%autoreload 2\n",
    "np.random.seed(100)"
   ]
  },
  {
   "cell_type": "code",
   "execution_count": 3,
   "metadata": {},
   "outputs": [],
   "source": [
    "import matplotlib.pylab as pylab\n",
    "params = {'legend.fontsize': 'x-large',\n",
    "          'figure.figsize': (15, 5),\n",
    "         'axes.labelsize': 'x-large',\n",
    "         'axes.titlesize':'x-large',\n",
    "         'xtick.labelsize':'x-large',\n",
    "         'ytick.labelsize':'x-large'}\n",
    "pylab.rcParams.update(params)\n",
    "%config InlineBackend.figure_format = \"retina\""
   ]
  },
  {
   "cell_type": "code",
   "execution_count": 14,
   "metadata": {},
   "outputs": [],
   "source": [
    "font1 = 25\n",
    "font2 = 23"
   ]
  },
  {
   "cell_type": "code",
   "execution_count": 4,
   "metadata": {},
   "outputs": [],
   "source": [
    "# choosing strategy type\n",
    "# available strategies are \"our model\", \"alternative filter\", \"naive filter\"\n",
    "# mispecify parameter represents whether the broker mispecifies the informed trader's inventory or not\n",
    "\n",
    "strategy_type = \"our model\"\n",
    "mispecify = True\n",
    "file_name = f'{strategy_type}'\n",
    "if mispecify:\n",
    "    file_name += f' (mispecified inventory)'\n",
    "    \n",
    "alpha_est_name = {\"our model\": r'$\\hat{\\alpha}_t$',\n",
    "                  \"alternative filter\": r'$\\hat{\\alpha}^{alt}_t$',\n",
    "                  \"naive filter\": r'$\\hat{\\alpha}^{naive}_t$'}"
   ]
  },
  {
   "cell_type": "code",
   "execution_count": 16,
   "metadata": {},
   "outputs": [],
   "source": [
    "scale_ivp = 100000 # change this to change the scale in solving ivp for V_B\n",
    "\n",
    "num_steps = 1000\n",
    "\n",
    "mu_B_range = np.linspace(-0.1, 0.1, 1001)\n",
    "f0_mu_B_list = []\n",
    "f1_kappa_alpha_list = []\n",
    "f2_b_list = []\n",
    "\n",
    "param_dict = {'mu_B': (np.linspace(-0.1, 0.1, num_steps + 1), f0_mu_B_list),\n",
    "              'kappa_alpha': (np.linspace(0, 10, num_steps + 1), f1_kappa_alpha_list),\n",
    "              'b': (np.linspace(0, 1.5e-03, num_steps + 1), f2_b_list)}"
   ]
  },
  {
   "cell_type": "code",
   "execution_count": null,
   "metadata": {},
   "outputs": [],
   "source": [
    "for param, (param_range, f_list) in param_dict.items():\n",
    "    \n",
    "    # baseline parameters\n",
    "    mu_B = 0\n",
    "    kappa_alpha = 5\n",
    "    b = 1e-03\n",
    "    \n",
    "    for param_val in param_range:\n",
    "        if param == 'mu_B':\n",
    "            mu_B = param_val\n",
    "        elif param == 'kappa_alpha':\n",
    "            kappa_alpha = param_val\n",
    "        elif param == 'b':\n",
    "            b = param_val\n",
    "            \n",
    "        params_env = {'b': b, 'alpha0': 0, 'kappa_alpha': kappa_alpha, 'sigma_alpha': 1, \n",
    "              'S0': 100., 'sigma_s': 1, 'corr': 0., 'T': 1., 'Nt': 1_000}\n",
    "\n",
    "        env = utils.environment(**params_env)\n",
    "\n",
    "        params_inf = {'env': env, 'Q0' : 0., 'k' : 2e-03, 'beta0' : 1e-01, 'beta1' : 1e-03, 'rho0' : 1e-03, 'rho1' : 1e-05,\n",
    "                      'sigma_B' : 60., 'mu_B' : mu_B, 'theta_B' : 10., 'sigma_0' : 0}\n",
    "\n",
    "        inf_trader =  utils.informed(**params_inf)\n",
    "        z = inf_trader.z\n",
    "        \n",
    "        if param == 'mu_B':\n",
    "            f0 = z[0] / 2 / inf_trader.k\n",
    "            f_list.append(f0)\n",
    "        elif param == 'kappa_alpha':\n",
    "            f1 = z[1] / 2 / inf_trader.k\n",
    "            f_list.append(f1)\n",
    "        elif param == 'b':\n",
    "            f2 = z[2] / 2 / inf_trader.k\n",
    "            f_list.append(f2)"
   ]
  },
  {
   "cell_type": "code",
   "execution_count": 9,
   "metadata": {},
   "outputs": [],
   "source": [
    "for mu_B in mu_B_range:\n",
    "    \n",
    "    params_env = {'b': 1e-03, 'alpha0': 0, 'kappa_alpha': 5., 'sigma_alpha': 1, \n",
    "              'S0': 100., 'sigma_s': 1, 'corr': 0., 'T': 1., 'Nt': 1_000}\n",
    "\n",
    "    env = utils.environment(**params_env)\n",
    "\n",
    "    params_inf = {'env': env, 'Q0' : 0., 'k' : 2e-03, 'beta0' : 1e-01, 'beta1' : 1e-03, 'rho0' : 1e-03, 'rho1' : 1e-05,\n",
    "                      'sigma_B' : 60., 'mu_B' : mu_B, 'theta_B' : 10., 'sigma_0' : 0}\n",
    "\n",
    "    inf_trader =  utils.informed(**params_inf)\n",
    "    \n",
    "    z = inf_trader.z\n",
    "    f0 = z[0] / 2 / inf_trader.k\n",
    "    f1 = z[1] / 2 / inf_trader.k\n",
    "    f2 = z[2] / 2 / inf_trader.k\n",
    "    f3 = z[9] / inf_trader.k\n",
    "    #V_I = inf_trader.V_I\n",
    "    \n",
    "    f0_list.append(f0)"
   ]
  },
  {
   "cell_type": "code",
   "execution_count": 13,
   "metadata": {},
   "outputs": [
    {
     "data": {
      "text/plain": [
       "[<matplotlib.lines.Line2D at 0x1c96e3defa0>]"
      ]
     },
     "execution_count": 13,
     "metadata": {},
     "output_type": "execute_result"
    },
    {
     "data": {
      "image/png": "[encoded data removed]",
      "text/plain": [
       "<Figure size 432x288 with 1 Axes>"
      ]
     },
     "metadata": {
      "image/png": {
       "height": 252,
       "width": 410
      },
      "needs_background": "light"
     },
     "output_type": "display_data"
    }
   ],
   "source": [
    "t_id = 0\n",
    "f0_param = np.array([f0_list[j][t_id] for j in range((len(mu_B_range)))])\n",
    "\n",
    "plt.plot(mu_B_range, f0_param, linewidth = 2)"
   ]
  },
  {
   "cell_type": "code",
   "execution_count": 5,
   "metadata": {},
   "outputs": [
    {
     "name": "stderr",
     "output_type": "stream",
     "text": [
      "D:\\(Akademik)\\(CDT in Mathematics of Random Systems)\\[Broker, Informed, Noise Traders, Filtering Game]\\utils.py:212: RuntimeWarning: divide by zero encountered in divide\n",
      "  GF0 = -(env.b/env.sigma_s)**2 * V_I - f3/2 - (env.b/(2*inf.k*f2))\n",
      "D:\\(Akademik)\\(CDT in Mathematics of Random Systems)\\[Broker, Informed, Noise Traders, Filtering Game]\\utils.py:226: RuntimeWarning: invalid value encountered in divide\n",
      "  GF6 = -(dGF3 * (GF3 + env.corr*GF4) + dGF3 * (env.corr * GF3 + GF4))/(GF5**2)\n",
      "D:\\(Akademik)\\(CDT in Mathematics of Random Systems)\\[Broker, Informed, Noise Traders, Filtering Game]\\utils.py:229: RuntimeWarning: invalid value encountered in divide\n",
      "  GF7 = GF_alpha/GF5\n",
      "D:\\(Akademik)\\(CDT in Mathematics of Random Systems)\\[Broker, Informed, Noise Traders, Filtering Game]\\utils.py:232: RuntimeWarning: invalid value encountered in divide\n",
      "  kF = (GF3 + env.corr * GF4)/GF5\n"
     ]
    }
   ],
   "source": [
    "scale_ivp = 100000 # change this to change the scale in solving ivp for V_B\n",
    "\n",
    "params_env = {'b': 1e-03, 'alpha0': 0, 'kappa_alpha': 5., 'sigma_alpha': 1, \n",
    "              'S0': 100., 'sigma_s': 1, 'corr': 0., 'T': 1., 'Nt': 1_000}\n",
    "\n",
    "env = utils.environment(**params_env)\n",
    "\n",
    "params_inf = {'env': env, 'Q0' : 0., 'k' : 2e-03, 'beta0' : 1e-01, 'beta1' : 1e-03, 'rho0' : 1e-03, 'rho1' : 1e-05,\n",
    "                  'sigma_B' : 60., 'mu_B' : 0., 'theta_B' : 10., 'sigma_0' : 0}\n",
    "\n",
    "inf_trader =  utils.informed(**params_inf)\n",
    "\n",
    "params_uninf = {'kappa' : 15., 'nu0' : 0., 'sigma' : 100., 'k' : 2e-03}\n",
    "\n",
    "uninf_trader = utils.uninformed(**params_uninf)\n",
    "\n",
    "params_broker = {'env': env, 'inf': inf_trader, 'uninf': uninf_trader,\n",
    "                 'Q0': 0, 'k': 2.1e-03, 'beta0': 1e-01, 'beta1': 1e-03, 'rho0': 1e-03, 'rho1': 1e-05, \n",
    "                 'sigma_B': inf_trader.sigma_B, 'mu_B': inf_trader.mu_B, 'theta_B': inf_trader.theta_B, \n",
    "                 'sigma_0': 0, 'scale_ivp': scale_ivp}\n",
    "\n",
    "broker = utils.broker(**params_broker)"
   ]
  },
  {
   "cell_type": "code",
   "execution_count": null,
   "metadata": {},
   "outputs": [],
   "source": []
  }
 ],
 "metadata": {
  "kernelspec": {
   "display_name": "Python 3",
   "language": "python",
   "name": "python3"
  },
  "language_info": {
   "codemirror_mode": {
    "name": "ipython",
    "version": 3
   },
   "file_extension": ".py",
   "mimetype": "text/x-python",
   "name": "python",
   "nbconvert_exporter": "python",
   "pygments_lexer": "ipython3",
   "version": "3.8.5"
  }
 },
 "nbformat": 4,
 "nbformat_minor": 4
}
